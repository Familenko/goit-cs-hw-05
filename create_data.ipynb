{
 "cells": [
  {
   "cell_type": "code",
   "execution_count": 1,
   "metadata": {},
   "outputs": [
    {
     "name": "stderr",
     "output_type": "stream",
     "text": [
      "[nltk_data] Downloading package words to\n",
      "[nltk_data]     /Users/aleksejkitajskij/nltk_data...\n",
      "[nltk_data]   Package words is already up-to-date!\n"
     ]
    },
    {
     "data": {
      "text/plain": [
       "236736"
      ]
     },
     "execution_count": 1,
     "metadata": {},
     "output_type": "execute_result"
    }
   ],
   "source": [
    "import nltk\n",
    "nltk.download('words')\n",
    "from nltk.corpus import words\n",
    "\n",
    "\n",
    "english_words = words.words()\n",
    "len(english_words)"
   ]
  },
  {
   "cell_type": "code",
   "execution_count": 2,
   "metadata": {},
   "outputs": [],
   "source": [
    "import random\n",
    "\n",
    "\n",
    "words = [word for word in random.choices(list(english_words), k=100)]\n",
    "formats = [\".csv\", \".txt\", \".md\"]"
   ]
  },
  {
   "cell_type": "code",
   "execution_count": 3,
   "metadata": {},
   "outputs": [],
   "source": [
    "import os\n",
    "\n",
    "\n",
    "base_dir = \"data\"\n",
    "os.makedirs(base_dir, exist_ok=True)\n",
    "\n",
    "def get_random_path(base_dir, depth):\n",
    "    path = base_dir\n",
    "    for _ in range(random.randint(1, depth)):\n",
    "        path = os.path.join(path, random.choice(words))\n",
    "    return path\n",
    "\n",
    "for word in words:\n",
    "    file_format = random.choice(formats)\n",
    "    file_name = f\"{word}{file_format}\"\n",
    "    random_depth = random.randint(1, 5)\n",
    "\n",
    "    dir_path = get_random_path(base_dir, random_depth)\n",
    "    os.makedirs(dir_path, exist_ok=True)\n",
    "    file_path = os.path.join(dir_path, file_name)\n",
    "    \n",
    "    with open(file_path, 'w') as file:\n",
    "        file.write(f\"Random content for {file_name}\")"
   ]
  }
 ],
 "metadata": {
  "kernelspec": {
   "display_name": "Python 3",
   "language": "python",
   "name": "python3"
  },
  "language_info": {
   "codemirror_mode": {
    "name": "ipython",
    "version": 3
   },
   "file_extension": ".py",
   "mimetype": "text/x-python",
   "name": "python",
   "nbconvert_exporter": "python",
   "pygments_lexer": "ipython3",
   "version": "3.11.3"
  }
 },
 "nbformat": 4,
 "nbformat_minor": 2
}
